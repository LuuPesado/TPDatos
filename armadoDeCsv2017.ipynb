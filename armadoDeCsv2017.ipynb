{
 "cells": [
  {
   "cell_type": "code",
   "execution_count": 1,
   "metadata": {},
   "outputs": [
    {
     "data": {
      "text/html": [
       "<style>.container { width:90% !important; }</style>"
      ],
      "text/plain": [
       "<IPython.core.display.HTML object>"
      ]
     },
     "metadata": {},
     "output_type": "display_data"
    }
   ],
   "source": [
    "from IPython.core.display import display, HTML\n",
    "display(HTML(\"<style>.container { width:90% !important; }</style>\"))\n"
   ]
  },
  {
   "cell_type": "code",
   "execution_count": 16,
   "metadata": {
    "collapsed": true
   },
   "outputs": [],
   "source": [
    "import pandas as pd\n",
    "import numpy as np\n",
    "import seaborn as sns\n",
    "import matplotlib.pyplot as plt\n"
   ]
  },
  {
   "cell_type": "markdown",
   "metadata": {},
   "source": [
    "# cargo los datos de los csv en los data frame"
   ]
  },
  {
   "cell_type": "code",
   "execution_count": 17,
   "metadata": {
    "collapsed": true
   },
   "outputs": [],
   "source": [
    "propertiesSell8_17SixMonths = pd.read_csv('Data/csv/sell/properati-AR-2017-08-01-properties-sell-six_months.csv')\n"
   ]
  },
  {
   "cell_type": "code",
   "execution_count": 18,
   "metadata": {
    "collapsed": true
   },
   "outputs": [],
   "source": [
    "propertiesSell8_17 = pd.read_csv('Data/csv/sell/properati-AR-2017-08-01-properties-sell.csv')\n"
   ]
  },
  {
   "cell_type": "code",
   "execution_count": 15,
   "metadata": {},
   "outputs": [
    {
     "data": {
      "text/html": [
       "<div>\n",
       "<style>\n",
       "    .dataframe thead tr:only-child th {\n",
       "        text-align: right;\n",
       "    }\n",
       "\n",
       "    .dataframe thead th {\n",
       "        text-align: left;\n",
       "    }\n",
       "\n",
       "    .dataframe tbody tr th {\n",
       "        vertical-align: top;\n",
       "    }\n",
       "</style>\n",
       "<table border=\"1\" class=\"dataframe\">\n",
       "  <thead>\n",
       "    <tr style=\"text-align: right;\">\n",
       "      <th></th>\n",
       "      <th>id</th>\n",
       "      <th>created_on</th>\n",
       "      <th>operation</th>\n",
       "      <th>property_type</th>\n",
       "      <th>place_name</th>\n",
       "      <th>place_with_parent_names</th>\n",
       "      <th>country_name</th>\n",
       "      <th>state_name</th>\n",
       "      <th>geonames_id</th>\n",
       "      <th>lat-lon</th>\n",
       "      <th>...</th>\n",
       "      <th>surface_covered_in_m2</th>\n",
       "      <th>price_usd_per_m2</th>\n",
       "      <th>price_per_m2</th>\n",
       "      <th>floor</th>\n",
       "      <th>rooms</th>\n",
       "      <th>expenses</th>\n",
       "      <th>properati_url</th>\n",
       "      <th>description</th>\n",
       "      <th>title</th>\n",
       "      <th>image_thumbnail</th>\n",
       "    </tr>\n",
       "  </thead>\n",
       "  <tbody>\n",
       "    <tr>\n",
       "      <th>0</th>\n",
       "      <td>c8a66ee9e3da083ab66dacd165e8a5cc718b1cf2</td>\n",
       "      <td>2012-09-19</td>\n",
       "      <td>sell</td>\n",
       "      <td>house</td>\n",
       "      <td>San Antonio De Padua</td>\n",
       "      <td>|Argentina|Bs.As. G.B.A. Zona Oeste|Merlo|San ...</td>\n",
       "      <td>Argentina</td>\n",
       "      <td>Bs.As. G.B.A. Zona Oeste</td>\n",
       "      <td>3429244.0</td>\n",
       "      <td>NaN</td>\n",
       "      <td>...</td>\n",
       "      <td>93.0</td>\n",
       "      <td>360.360360</td>\n",
       "      <td>1290.322581</td>\n",
       "      <td>NaN</td>\n",
       "      <td>NaN</td>\n",
       "      <td>NaN</td>\n",
       "      <td>http://www.properati.com.ar/udh_venta_casa_mer...</td>\n",
       "      <td>CASA CON LOCAL EN VENTA EN PADUA.2 DORMITORIOS...</td>\n",
       "      <td>CASA EN VENTA</td>\n",
       "      <td>https://thumbs4.properati.com/1/ufoyqwscVk8n3e...</td>\n",
       "    </tr>\n",
       "    <tr>\n",
       "      <th>1</th>\n",
       "      <td>a205c53378e7879cf7519659317fb410c060d20e</td>\n",
       "      <td>2012-10-22</td>\n",
       "      <td>sell</td>\n",
       "      <td>house</td>\n",
       "      <td>San Antonio De Padua</td>\n",
       "      <td>|Argentina|Bs.As. G.B.A. Zona Oeste|Merlo|San ...</td>\n",
       "      <td>Argentina</td>\n",
       "      <td>Bs.As. G.B.A. Zona Oeste</td>\n",
       "      <td>3429244.0</td>\n",
       "      <td>NaN</td>\n",
       "      <td>...</td>\n",
       "      <td>220.0</td>\n",
       "      <td>1000.000000</td>\n",
       "      <td>1000.000000</td>\n",
       "      <td>NaN</td>\n",
       "      <td>NaN</td>\n",
       "      <td>NaN</td>\n",
       "      <td>http://www.properati.com.ar/20hi_venta_casa_me...</td>\n",
       "      <td>CHALET VENTA 4 AMBIENTES PADUA.EXCELENTE CHALE...</td>\n",
       "      <td>CASA EN VENTA</td>\n",
       "      <td>https://thumbs4.properati.com/5/I5RS_jAIUseo9H...</td>\n",
       "    </tr>\n",
       "    <tr>\n",
       "      <th>2</th>\n",
       "      <td>e06d6f864a0b91346594da4d27ceddcef0947ea6</td>\n",
       "      <td>2012-11-01</td>\n",
       "      <td>sell</td>\n",
       "      <td>apartment</td>\n",
       "      <td>Mar del Plata</td>\n",
       "      <td>|Argentina|Buenos Aires Costa Atlántica|Mar de...</td>\n",
       "      <td>Argentina</td>\n",
       "      <td>Buenos Aires Costa Atlántica</td>\n",
       "      <td>3430863.0</td>\n",
       "      <td>-38.0199509,-57.5265733</td>\n",
       "      <td>...</td>\n",
       "      <td>42.0</td>\n",
       "      <td>NaN</td>\n",
       "      <td>NaN</td>\n",
       "      <td>NaN</td>\n",
       "      <td>2.0</td>\n",
       "      <td>NaN</td>\n",
       "      <td>http://www.properati.com.ar/336o_venta_departa...</td>\n",
       "      <td>DTO. 2 AMB. C/ VISTA PLENA AL  6 X 3DOMITORIO ...</td>\n",
       "      <td>DTO. 2 AMB. C/ VISTA PLENA AL MAR</td>\n",
       "      <td>https://thumbs4.properati.com/5/VjDOdzm9n8uqZu...</td>\n",
       "    </tr>\n",
       "    <tr>\n",
       "      <th>3</th>\n",
       "      <td>a07927207d2a03de5f4ba7fd76f670d6285a3315</td>\n",
       "      <td>2012-11-26</td>\n",
       "      <td>sell</td>\n",
       "      <td>house</td>\n",
       "      <td>Sierra de los Padres</td>\n",
       "      <td>|Argentina|Buenos Aires Interior|General Pueyr...</td>\n",
       "      <td>Argentina</td>\n",
       "      <td>Buenos Aires Interior</td>\n",
       "      <td>3427958.0</td>\n",
       "      <td>-37.9511934894,-57.7752885836</td>\n",
       "      <td>...</td>\n",
       "      <td>265.0</td>\n",
       "      <td>NaN</td>\n",
       "      <td>NaN</td>\n",
       "      <td>NaN</td>\n",
       "      <td>6.0</td>\n",
       "      <td>NaN</td>\n",
       "      <td>http://www.properati.com.ar/47hc_venta_terreno...</td>\n",
       "      <td>PROPIEDAD DE CATEGORIA CUENTA CON: 4 DORMITOR...</td>\n",
       "      <td>CHALET EN VENTA</td>\n",
       "      <td>https://thumbs4.properati.com/9/DA4GMdxXrthh5z...</td>\n",
       "    </tr>\n",
       "    <tr>\n",
       "      <th>4</th>\n",
       "      <td>9446052c949050359fb08b9f1ba83ba2eaa20c99</td>\n",
       "      <td>2012-12-08</td>\n",
       "      <td>sell</td>\n",
       "      <td>house</td>\n",
       "      <td>Mataderos</td>\n",
       "      <td>|Argentina|Capital Federal|Mataderos|</td>\n",
       "      <td>Argentina</td>\n",
       "      <td>Capital Federal</td>\n",
       "      <td>3430787.0</td>\n",
       "      <td>-34.6544492346,-58.4895603251</td>\n",
       "      <td>...</td>\n",
       "      <td>103.0</td>\n",
       "      <td>616.666667</td>\n",
       "      <td>1796.116505</td>\n",
       "      <td>NaN</td>\n",
       "      <td>5.0</td>\n",
       "      <td>NaN</td>\n",
       "      <td>http://www.properati.com.ar/4m4m_venta_casa_ma...</td>\n",
       "      <td>Casa Multifamiliar en Mataderos!!! Sobre lote ...</td>\n",
       "      <td>CASA EN VENTA</td>\n",
       "      <td>https://thumbs4.properati.com/6/DsNJjCb5_zIPV0...</td>\n",
       "    </tr>\n",
       "  </tbody>\n",
       "</table>\n",
       "<p>5 rows × 27 columns</p>\n",
       "</div>"
      ],
      "text/plain": [
       "                                         id  created_on operation  \\\n",
       "0  c8a66ee9e3da083ab66dacd165e8a5cc718b1cf2  2012-09-19      sell   \n",
       "1  a205c53378e7879cf7519659317fb410c060d20e  2012-10-22      sell   \n",
       "2  e06d6f864a0b91346594da4d27ceddcef0947ea6  2012-11-01      sell   \n",
       "3  a07927207d2a03de5f4ba7fd76f670d6285a3315  2012-11-26      sell   \n",
       "4  9446052c949050359fb08b9f1ba83ba2eaa20c99  2012-12-08      sell   \n",
       "\n",
       "  property_type            place_name  \\\n",
       "0         house  San Antonio De Padua   \n",
       "1         house  San Antonio De Padua   \n",
       "2     apartment         Mar del Plata   \n",
       "3         house  Sierra de los Padres   \n",
       "4         house             Mataderos   \n",
       "\n",
       "                             place_with_parent_names country_name  \\\n",
       "0  |Argentina|Bs.As. G.B.A. Zona Oeste|Merlo|San ...    Argentina   \n",
       "1  |Argentina|Bs.As. G.B.A. Zona Oeste|Merlo|San ...    Argentina   \n",
       "2  |Argentina|Buenos Aires Costa Atlántica|Mar de...    Argentina   \n",
       "3  |Argentina|Buenos Aires Interior|General Pueyr...    Argentina   \n",
       "4              |Argentina|Capital Federal|Mataderos|    Argentina   \n",
       "\n",
       "                     state_name  geonames_id                        lat-lon  \\\n",
       "0      Bs.As. G.B.A. Zona Oeste    3429244.0                            NaN   \n",
       "1      Bs.As. G.B.A. Zona Oeste    3429244.0                            NaN   \n",
       "2  Buenos Aires Costa Atlántica    3430863.0        -38.0199509,-57.5265733   \n",
       "3         Buenos Aires Interior    3427958.0  -37.9511934894,-57.7752885836   \n",
       "4               Capital Federal    3430787.0  -34.6544492346,-58.4895603251   \n",
       "\n",
       "                         ...                          surface_covered_in_m2  \\\n",
       "0                        ...                                           93.0   \n",
       "1                        ...                                          220.0   \n",
       "2                        ...                                           42.0   \n",
       "3                        ...                                          265.0   \n",
       "4                        ...                                          103.0   \n",
       "\n",
       "   price_usd_per_m2  price_per_m2 floor  rooms  expenses  \\\n",
       "0        360.360360   1290.322581   NaN    NaN       NaN   \n",
       "1       1000.000000   1000.000000   NaN    NaN       NaN   \n",
       "2               NaN           NaN   NaN    2.0       NaN   \n",
       "3               NaN           NaN   NaN    6.0       NaN   \n",
       "4        616.666667   1796.116505   NaN    5.0       NaN   \n",
       "\n",
       "                                       properati_url  \\\n",
       "0  http://www.properati.com.ar/udh_venta_casa_mer...   \n",
       "1  http://www.properati.com.ar/20hi_venta_casa_me...   \n",
       "2  http://www.properati.com.ar/336o_venta_departa...   \n",
       "3  http://www.properati.com.ar/47hc_venta_terreno...   \n",
       "4  http://www.properati.com.ar/4m4m_venta_casa_ma...   \n",
       "\n",
       "                                         description  \\\n",
       "0  CASA CON LOCAL EN VENTA EN PADUA.2 DORMITORIOS...   \n",
       "1  CHALET VENTA 4 AMBIENTES PADUA.EXCELENTE CHALE...   \n",
       "2  DTO. 2 AMB. C/ VISTA PLENA AL  6 X 3DOMITORIO ...   \n",
       "3   PROPIEDAD DE CATEGORIA CUENTA CON: 4 DORMITOR...   \n",
       "4  Casa Multifamiliar en Mataderos!!! Sobre lote ...   \n",
       "\n",
       "                               title  \\\n",
       "0                      CASA EN VENTA   \n",
       "1                      CASA EN VENTA   \n",
       "2  DTO. 2 AMB. C/ VISTA PLENA AL MAR   \n",
       "3                   CHALET EN VENTA    \n",
       "4                      CASA EN VENTA   \n",
       "\n",
       "                                     image_thumbnail  \n",
       "0  https://thumbs4.properati.com/1/ufoyqwscVk8n3e...  \n",
       "1  https://thumbs4.properati.com/5/I5RS_jAIUseo9H...  \n",
       "2  https://thumbs4.properati.com/5/VjDOdzm9n8uqZu...  \n",
       "3  https://thumbs4.properati.com/9/DA4GMdxXrthh5z...  \n",
       "4  https://thumbs4.properati.com/6/DsNJjCb5_zIPV0...  \n",
       "\n",
       "[5 rows x 27 columns]"
      ]
     },
     "execution_count": 15,
     "metadata": {},
     "output_type": "execute_result"
    }
   ],
   "source": [
    "propertiesSell8_17.head()"
   ]
  },
  {
   "cell_type": "code",
   "execution_count": 14,
   "metadata": {},
   "outputs": [
    {
     "name": "stdout",
     "output_type": "stream",
     "text": [
      "<class 'pandas.core.frame.DataFrame'>\n",
      "RangeIndex: 187482 entries, 0 to 187481\n",
      "Data columns (total 27 columns):\n",
      "id                            187482 non-null object\n",
      "created_on                    187482 non-null object\n",
      "operation                     187482 non-null object\n",
      "property_type                 187482 non-null object\n",
      "place_name                    187447 non-null object\n",
      "place_with_parent_names       187482 non-null object\n",
      "country_name                  187482 non-null object\n",
      "state_name                    187482 non-null object\n",
      "geonames_id                   158318 non-null float64\n",
      "lat-lon                       118761 non-null object\n",
      "lat                           118761 non-null float64\n",
      "lon                           118761 non-null float64\n",
      "price                         154443 non-null float64\n",
      "currency                      154441 non-null object\n",
      "price_aprox_local_currency    154443 non-null float64\n",
      "price_aprox_usd               154443 non-null float64\n",
      "surface_total_in_m2           125027 non-null float64\n",
      "surface_covered_in_m2         152420 non-null float64\n",
      "price_usd_per_m2              105024 non-null float64\n",
      "price_per_m2                  131665 non-null float64\n",
      "floor                         14294 non-null float64\n",
      "rooms                         80320 non-null float64\n",
      "expenses                      17520 non-null float64\n",
      "properati_url                 187482 non-null object\n",
      "description                   187473 non-null object\n",
      "title                         187482 non-null object\n",
      "image_thumbnail               182814 non-null object\n",
      "dtypes: float64(13), object(14)\n",
      "memory usage: 28.6+ MB\n"
     ]
    }
   ],
   "source": [
    "propertiesSell8_17.info()"
   ]
  },
  {
   "cell_type": "code",
   "execution_count": 19,
   "metadata": {
    "collapsed": true
   },
   "outputs": [],
   "source": [
    "propertiesSell2_17 = pd.read_csv('Data/csv/sell/properati-AR-2017-02-01-properties-sell.csv')\n"
   ]
  },
  {
   "cell_type": "code",
   "execution_count": 20,
   "metadata": {
    "collapsed": true
   },
   "outputs": [],
   "source": [
    "propertiesSell3_17 = pd.read_csv('Data/csv/sell/properati-AR-2017-03-01-properties-sell.csv')\n"
   ]
  },
  {
   "cell_type": "code",
   "execution_count": 21,
   "metadata": {
    "collapsed": true
   },
   "outputs": [],
   "source": [
    "propertiesSell4_17 = pd.read_csv('Data/csv/sell/properati-AR-2017-04-01-properties-sell.csv')\n"
   ]
  },
  {
   "cell_type": "code",
   "execution_count": 22,
   "metadata": {
    "collapsed": true
   },
   "outputs": [],
   "source": [
    "propertiesSell5_17 = pd.read_csv('Data/csv/sell/properati-AR-2017-05-01-properties-sell.csv')\n"
   ]
  },
  {
   "cell_type": "code",
   "execution_count": 23,
   "metadata": {
    "collapsed": true
   },
   "outputs": [],
   "source": [
    "propertiesSell6_6_17 = pd.read_csv('Data/csv/sell/properati-AR-2017-06-06-properties-sell.csv')\n"
   ]
  },
  {
   "cell_type": "code",
   "execution_count": 24,
   "metadata": {
    "collapsed": true
   },
   "outputs": [],
   "source": [
    "propertiesSell6_17 = pd.read_csv('Data/csv/sell/properati-AR-2017-06-01-properties-sell.csv')\n"
   ]
  },
  {
   "cell_type": "code",
   "execution_count": 27,
   "metadata": {
    "collapsed": true
   },
   "outputs": [],
   "source": [
    "propertiesSell7_17 = pd.read_csv('Data/csv/sell/properati-AR-2017-07-01-properties-sell.csv')\n"
   ]
  },
  {
   "cell_type": "code",
   "execution_count": 28,
   "metadata": {
    "collapsed": true
   },
   "outputs": [],
   "source": [
    "propertiesSell7_17SixMoths = pd.read_csv('Data/csv/sell/properati-AR-2017-07-01-properties-sell-six_months.csv')\n"
   ]
  },
  {
   "cell_type": "code",
   "execution_count": 29,
   "metadata": {
    "collapsed": true
   },
   "outputs": [],
   "source": [
    "propertiesSell7_3_17 = pd.read_csv('Data/csv/sell/properati-AR-2017-07-03-properties-sell.csv')\n"
   ]
  },
  {
   "cell_type": "markdown",
   "metadata": {
    "collapsed": true
   },
   "source": [
    "# armo una serie de data frames para poder filtrar los que son de CABA y GBA"
   ]
  },
  {
   "cell_type": "code",
   "execution_count": 31,
   "metadata": {
    "collapsed": true
   },
   "outputs": [],
   "source": [
    "dfs = [propertiesSell2_17, propertiesSell3_17, propertiesSell4_17, propertiesSell5_17, propertiesSell6_17, propertiesSell7_17, propertiesSell7_17SixMoths,propertiesSell7_3_17,propertiesSell8_17SixMonths]\n"
   ]
  },
  {
   "cell_type": "markdown",
   "metadata": {},
   "source": [
    "# por ahi se pueden filtrar de alguna forma mas copada pero fue la primera que se me ocurrio xD"
   ]
  },
  {
   "cell_type": "code",
   "execution_count": 32,
   "metadata": {
    "collapsed": true
   },
   "outputs": [],
   "source": [
    "dfs2 = []\n",
    "for df in dfs:\n",
    "    df[df['state_name'].str.contains('G.B.A')| df['state_name'].str.contains('Capital Federal')]\n",
    "    dfs2.append(df)\n"
   ]
  },
  {
   "cell_type": "markdown",
   "metadata": {},
   "source": [
    "# Me quedo con las columnas que creo que interesaban"
   ]
  },
  {
   "cell_type": "code",
   "execution_count": 33,
   "metadata": {
    "collapsed": true
   },
   "outputs": [],
   "source": [
    "df3 = []\n",
    "for df in dfs2:\n",
    "    df.loc[:,['id', 'created_on', 'operation','property_type','place_name','state_name','price','currency','price_aprox_local_currency','price_aprox_usd','surface_total_in_m2','surface_covered_in_m2','price_usd_per_m2','floor','rooms','expenses']]\n",
    "    df3.append(df)\n",
    "    \n"
   ]
  },
  {
   "cell_type": "markdown",
   "metadata": {},
   "source": [
    "# armo csv mas livianos porque mi compu es super lenta"
   ]
  },
  {
   "cell_type": "code",
   "execution_count": 34,
   "metadata": {
    "collapsed": true
   },
   "outputs": [],
   "source": [
    "\n",
    "i = 1\n",
    "for df in df3:\n",
    "    name_csv = 'sell'+str(i) +'2017.csv'\n",
    "    df.to_csv(name_csv)\n",
    "    i= i +1\n",
    "    "
   ]
  },
  {
   "cell_type": "markdown",
   "metadata": {},
   "source": [
    "# cargo los nuevos csv en otros data frame, de ahora en mas corro desde aca :)"
   ]
  },
  {
   "cell_type": "code",
   "execution_count": 3,
   "metadata": {
    "collapsed": true
   },
   "outputs": [],
   "source": [
    "propertiesSell2_17 = pd.read_csv('Data/csv/sell/sell12017.csv')"
   ]
  },
  {
   "cell_type": "code",
   "execution_count": 22,
   "metadata": {
    "collapsed": true
   },
   "outputs": [],
   "source": [
    "propertiesSell3_17 = pd.read_csv('Data/csv/sell/sell22017.csv')"
   ]
  },
  {
   "cell_type": "code",
   "execution_count": 5,
   "metadata": {
    "collapsed": true
   },
   "outputs": [],
   "source": [
    "propertiesSell4_17 = pd.read_csv('Data/csv/sell/sell32017.csv')"
   ]
  },
  {
   "cell_type": "code",
   "execution_count": 6,
   "metadata": {
    "collapsed": true
   },
   "outputs": [],
   "source": [
    "propertiesSell5_17 = pd.read_csv('Data/csv/sell/sell42017.csv')"
   ]
  },
  {
   "cell_type": "code",
   "execution_count": 7,
   "metadata": {
    "collapsed": true
   },
   "outputs": [],
   "source": [
    "propertiesSell6_17 = pd.read_csv('Data/csv/sell/sell52017.csv')"
   ]
  },
  {
   "cell_type": "code",
   "execution_count": 10,
   "metadata": {
    "collapsed": true
   },
   "outputs": [],
   "source": [
    "propertiesSell6_6_17 = pd.read_csv('Data/csv/sell/sell62017.csv')"
   ]
  },
  {
   "cell_type": "code",
   "execution_count": 11,
   "metadata": {
    "collapsed": true
   },
   "outputs": [],
   "source": [
    "propertiesSell7_17 = pd.read_csv('Data/csv/sell/sell72017.csv')"
   ]
  },
  {
   "cell_type": "code",
   "execution_count": 12,
   "metadata": {
    "collapsed": true
   },
   "outputs": [],
   "source": [
    "propertiesSell8_17 = pd.read_csv('Data/csv/sell/sell82017.csv')"
   ]
  },
  {
   "cell_type": "code",
   "execution_count": 13,
   "metadata": {
    "collapsed": true
   },
   "outputs": [],
   "source": [
    "propertiesSell8_17SixMonths = pd.read_csv('Data/csv/sell/sell92017.csv')"
   ]
  },
  {
   "cell_type": "code",
   "execution_count": 39,
   "metadata": {
    "collapsed": true
   },
   "outputs": [],
   "source": [
    "properties = [propertiesSell2_17, propertiesSell3_17, propertiesSell4_17, propertiesSell5_17, propertiesSell6_17, propertiesSell7_17, propertiesSell8_17, propertiesSell8_17SixMonths]\n"
   ]
  },
  {
   "cell_type": "markdown",
   "metadata": {},
   "source": [
    "### Creo un csv con todas las propiedades en venta durante el 2017"
   ]
  },
  {
   "cell_type": "code",
   "execution_count": null,
   "metadata": {
    "collapsed": true
   },
   "outputs": [],
   "source": [
    "pd.concat(properties).to_csv('propertiesForSale2017.csv')"
   ]
  },
  {
   "cell_type": "markdown",
   "metadata": {},
   "source": [
    "### vuelvo a cargar en un data frame para poder trabajar despues desde aca"
   ]
  },
  {
   "cell_type": "code",
   "execution_count": 8,
   "metadata": {},
   "outputs": [
    {
     "data": {
      "text/html": [
       "<div>\n",
       "<style>\n",
       "    .dataframe thead tr:only-child th {\n",
       "        text-align: right;\n",
       "    }\n",
       "\n",
       "    .dataframe thead th {\n",
       "        text-align: left;\n",
       "    }\n",
       "\n",
       "    .dataframe tbody tr th {\n",
       "        vertical-align: top;\n",
       "    }\n",
       "</style>\n",
       "<table border=\"1\" class=\"dataframe\">\n",
       "  <thead>\n",
       "    <tr style=\"text-align: right;\">\n",
       "      <th></th>\n",
       "      <th>Unnamed: 0</th>\n",
       "      <th>Unnamed: 0.1</th>\n",
       "      <th>id</th>\n",
       "      <th>created_on</th>\n",
       "      <th>operation</th>\n",
       "      <th>property_type</th>\n",
       "      <th>place_name</th>\n",
       "      <th>state_name</th>\n",
       "      <th>surface_covered_in_m2</th>\n",
       "      <th>price_usd_per_m2</th>\n",
       "      <th>floor</th>\n",
       "      <th>rooms</th>\n",
       "      <th>expenses</th>\n",
       "    </tr>\n",
       "  </thead>\n",
       "  <tbody>\n",
       "    <tr>\n",
       "      <th>0</th>\n",
       "      <td>0</td>\n",
       "      <td>0</td>\n",
       "      <td>62092fb92d41a36dc5a77738eb48b8dba3647a61</td>\n",
       "      <td>2016-08-01</td>\n",
       "      <td>sell</td>\n",
       "      <td>house</td>\n",
       "      <td>José C Paz</td>\n",
       "      <td>Bs.As. G.B.A. Zona Norte</td>\n",
       "      <td>NaN</td>\n",
       "      <td>NaN</td>\n",
       "      <td>NaN</td>\n",
       "      <td>NaN</td>\n",
       "      <td>NaN</td>\n",
       "    </tr>\n",
       "    <tr>\n",
       "      <th>1</th>\n",
       "      <td>1</td>\n",
       "      <td>1</td>\n",
       "      <td>bd446db99bd59f3538f8a28b59d213e64d1fa9c8</td>\n",
       "      <td>2016-08-01</td>\n",
       "      <td>sell</td>\n",
       "      <td>house</td>\n",
       "      <td>José C Paz</td>\n",
       "      <td>Bs.As. G.B.A. Zona Norte</td>\n",
       "      <td>NaN</td>\n",
       "      <td>366.666667</td>\n",
       "      <td>NaN</td>\n",
       "      <td>NaN</td>\n",
       "      <td>NaN</td>\n",
       "    </tr>\n",
       "    <tr>\n",
       "      <th>2</th>\n",
       "      <td>2</td>\n",
       "      <td>4</td>\n",
       "      <td>5b98ca0a1fa6db3b76722263b451a2cc0dbb86dd</td>\n",
       "      <td>2016-08-01</td>\n",
       "      <td>sell</td>\n",
       "      <td>apartment</td>\n",
       "      <td>Barrio Norte</td>\n",
       "      <td>Capital Federal</td>\n",
       "      <td>162.0</td>\n",
       "      <td>3307.692308</td>\n",
       "      <td>NaN</td>\n",
       "      <td>7.0</td>\n",
       "      <td>9000.0</td>\n",
       "    </tr>\n",
       "    <tr>\n",
       "      <th>3</th>\n",
       "      <td>3</td>\n",
       "      <td>6</td>\n",
       "      <td>a295a94eef49d7a48051d1e77ef86190bb2eef90</td>\n",
       "      <td>2016-08-01</td>\n",
       "      <td>sell</td>\n",
       "      <td>house</td>\n",
       "      <td>Castelar</td>\n",
       "      <td>Bs.As. G.B.A. Zona Oeste</td>\n",
       "      <td>NaN</td>\n",
       "      <td>NaN</td>\n",
       "      <td>NaN</td>\n",
       "      <td>NaN</td>\n",
       "      <td>NaN</td>\n",
       "    </tr>\n",
       "    <tr>\n",
       "      <th>4</th>\n",
       "      <td>4</td>\n",
       "      <td>7</td>\n",
       "      <td>fa1ff3e2ba1568f7b8a3e293875a4d43ab9933af</td>\n",
       "      <td>2016-08-01</td>\n",
       "      <td>sell</td>\n",
       "      <td>house</td>\n",
       "      <td>Ituzaingó</td>\n",
       "      <td>Bs.As. G.B.A. Zona Oeste</td>\n",
       "      <td>NaN</td>\n",
       "      <td>NaN</td>\n",
       "      <td>NaN</td>\n",
       "      <td>NaN</td>\n",
       "      <td>NaN</td>\n",
       "    </tr>\n",
       "  </tbody>\n",
       "</table>\n",
       "</div>"
      ],
      "text/plain": [
       "   Unnamed: 0  Unnamed: 0.1                                        id  \\\n",
       "0           0             0  62092fb92d41a36dc5a77738eb48b8dba3647a61   \n",
       "1           1             1  bd446db99bd59f3538f8a28b59d213e64d1fa9c8   \n",
       "2           2             4  5b98ca0a1fa6db3b76722263b451a2cc0dbb86dd   \n",
       "3           3             6  a295a94eef49d7a48051d1e77ef86190bb2eef90   \n",
       "4           4             7  fa1ff3e2ba1568f7b8a3e293875a4d43ab9933af   \n",
       "\n",
       "   created_on operation property_type    place_name                state_name  \\\n",
       "0  2016-08-01      sell         house    José C Paz  Bs.As. G.B.A. Zona Norte   \n",
       "1  2016-08-01      sell         house    José C Paz  Bs.As. G.B.A. Zona Norte   \n",
       "2  2016-08-01      sell     apartment  Barrio Norte           Capital Federal   \n",
       "3  2016-08-01      sell         house      Castelar  Bs.As. G.B.A. Zona Oeste   \n",
       "4  2016-08-01      sell         house     Ituzaingó  Bs.As. G.B.A. Zona Oeste   \n",
       "\n",
       "   surface_covered_in_m2  price_usd_per_m2  floor  rooms  expenses  \n",
       "0                    NaN               NaN    NaN    NaN       NaN  \n",
       "1                    NaN        366.666667    NaN    NaN       NaN  \n",
       "2                  162.0       3307.692308    NaN    7.0    9000.0  \n",
       "3                    NaN               NaN    NaN    NaN       NaN  \n",
       "4                    NaN               NaN    NaN    NaN       NaN  "
      ]
     },
     "execution_count": 8,
     "metadata": {},
     "output_type": "execute_result"
    }
   ],
   "source": [
    "properties2017 = pd.read_csv('Data/csv/sell/propertiesForSale2017.csv')\n",
    "\n",
    " "
   ]
  },
  {
   "cell_type": "code",
   "execution_count": 10,
   "metadata": {},
   "outputs": [
    {
     "data": {
      "text/html": [
       "<div>\n",
       "<style>\n",
       "    .dataframe thead tr:only-child th {\n",
       "        text-align: right;\n",
       "    }\n",
       "\n",
       "    .dataframe thead th {\n",
       "        text-align: left;\n",
       "    }\n",
       "\n",
       "    .dataframe tbody tr th {\n",
       "        vertical-align: top;\n",
       "    }\n",
       "</style>\n",
       "<table border=\"1\" class=\"dataframe\">\n",
       "  <thead>\n",
       "    <tr style=\"text-align: right;\">\n",
       "      <th></th>\n",
       "      <th>Unnamed: 0</th>\n",
       "      <th>Unnamed: 0.1</th>\n",
       "      <th>id</th>\n",
       "      <th>created_on</th>\n",
       "      <th>operation</th>\n",
       "      <th>property_type</th>\n",
       "      <th>place_name</th>\n",
       "      <th>state_name</th>\n",
       "      <th>surface_covered_in_m2</th>\n",
       "      <th>price_usd_per_m2</th>\n",
       "      <th>floor</th>\n",
       "      <th>rooms</th>\n",
       "      <th>expenses</th>\n",
       "    </tr>\n",
       "  </thead>\n",
       "  <tbody>\n",
       "    <tr>\n",
       "      <th>1</th>\n",
       "      <td>1</td>\n",
       "      <td>1</td>\n",
       "      <td>bd446db99bd59f3538f8a28b59d213e64d1fa9c8</td>\n",
       "      <td>2016-08-01</td>\n",
       "      <td>sell</td>\n",
       "      <td>house</td>\n",
       "      <td>José C Paz</td>\n",
       "      <td>Bs.As. G.B.A. Zona Norte</td>\n",
       "      <td>NaN</td>\n",
       "      <td>366.666667</td>\n",
       "      <td>NaN</td>\n",
       "      <td>NaN</td>\n",
       "      <td>NaN</td>\n",
       "    </tr>\n",
       "    <tr>\n",
       "      <th>2</th>\n",
       "      <td>2</td>\n",
       "      <td>4</td>\n",
       "      <td>5b98ca0a1fa6db3b76722263b451a2cc0dbb86dd</td>\n",
       "      <td>2016-08-01</td>\n",
       "      <td>sell</td>\n",
       "      <td>apartment</td>\n",
       "      <td>Barrio Norte</td>\n",
       "      <td>Capital Federal</td>\n",
       "      <td>162.0</td>\n",
       "      <td>3307.692308</td>\n",
       "      <td>NaN</td>\n",
       "      <td>7.0</td>\n",
       "      <td>9000.0</td>\n",
       "    </tr>\n",
       "    <tr>\n",
       "      <th>10</th>\n",
       "      <td>10</td>\n",
       "      <td>14</td>\n",
       "      <td>dd09c4a6adfb6ab15d02fcc1567b233d6be4a898</td>\n",
       "      <td>2016-08-01</td>\n",
       "      <td>sell</td>\n",
       "      <td>apartment</td>\n",
       "      <td>Morón</td>\n",
       "      <td>Bs.As. G.B.A. Zona Oeste</td>\n",
       "      <td>40.0</td>\n",
       "      <td>1642.857143</td>\n",
       "      <td>NaN</td>\n",
       "      <td>NaN</td>\n",
       "      <td>500.0</td>\n",
       "    </tr>\n",
       "    <tr>\n",
       "      <th>12</th>\n",
       "      <td>12</td>\n",
       "      <td>16</td>\n",
       "      <td>556cbf65c5f2c99a257ec1105659f1f589950479</td>\n",
       "      <td>2016-08-01</td>\n",
       "      <td>sell</td>\n",
       "      <td>house</td>\n",
       "      <td>Ituzaingó</td>\n",
       "      <td>Bs.As. G.B.A. Zona Oeste</td>\n",
       "      <td>200.0</td>\n",
       "      <td>638.888889</td>\n",
       "      <td>NaN</td>\n",
       "      <td>NaN</td>\n",
       "      <td>NaN</td>\n",
       "    </tr>\n",
       "    <tr>\n",
       "      <th>13</th>\n",
       "      <td>13</td>\n",
       "      <td>18</td>\n",
       "      <td>e887c65eb53bc86b68873714d669b261d5911be9</td>\n",
       "      <td>2016-08-01</td>\n",
       "      <td>sell</td>\n",
       "      <td>house</td>\n",
       "      <td>Morón</td>\n",
       "      <td>Bs.As. G.B.A. Zona Oeste</td>\n",
       "      <td>80.0</td>\n",
       "      <td>300.000000</td>\n",
       "      <td>NaN</td>\n",
       "      <td>NaN</td>\n",
       "      <td>NaN</td>\n",
       "    </tr>\n",
       "  </tbody>\n",
       "</table>\n",
       "</div>"
      ],
      "text/plain": [
       "    Unnamed: 0  Unnamed: 0.1                                        id  \\\n",
       "1            1             1  bd446db99bd59f3538f8a28b59d213e64d1fa9c8   \n",
       "2            2             4  5b98ca0a1fa6db3b76722263b451a2cc0dbb86dd   \n",
       "10          10            14  dd09c4a6adfb6ab15d02fcc1567b233d6be4a898   \n",
       "12          12            16  556cbf65c5f2c99a257ec1105659f1f589950479   \n",
       "13          13            18  e887c65eb53bc86b68873714d669b261d5911be9   \n",
       "\n",
       "    created_on operation property_type    place_name  \\\n",
       "1   2016-08-01      sell         house    José C Paz   \n",
       "2   2016-08-01      sell     apartment  Barrio Norte   \n",
       "10  2016-08-01      sell     apartment         Morón   \n",
       "12  2016-08-01      sell         house     Ituzaingó   \n",
       "13  2016-08-01      sell         house         Morón   \n",
       "\n",
       "                  state_name  surface_covered_in_m2  price_usd_per_m2  floor  \\\n",
       "1   Bs.As. G.B.A. Zona Norte                    NaN        366.666667    NaN   \n",
       "2            Capital Federal                  162.0       3307.692308    NaN   \n",
       "10  Bs.As. G.B.A. Zona Oeste                   40.0       1642.857143    NaN   \n",
       "12  Bs.As. G.B.A. Zona Oeste                  200.0        638.888889    NaN   \n",
       "13  Bs.As. G.B.A. Zona Oeste                   80.0        300.000000    NaN   \n",
       "\n",
       "    rooms  expenses  \n",
       "1     NaN       NaN  \n",
       "2     7.0    9000.0  \n",
       "10    NaN     500.0  \n",
       "12    NaN       NaN  \n",
       "13    NaN       NaN  "
      ]
     },
     "execution_count": 10,
     "metadata": {},
     "output_type": "execute_result"
    }
   ],
   "source": [
    "properties2017[properties2017['price_usd_per_m2'].notnull()].head(5)"
   ]
  }
 ],
 "metadata": {
  "kernelspec": {
   "display_name": "Python 3",
   "language": "python",
   "name": "python3"
  },
  "language_info": {
   "codemirror_mode": {
    "name": "ipython",
    "version": 3
   },
   "file_extension": ".py",
   "mimetype": "text/x-python",
   "name": "python",
   "nbconvert_exporter": "python",
   "pygments_lexer": "ipython3",
   "version": "3.6.1"
  }
 },
 "nbformat": 4,
 "nbformat_minor": 2
}
